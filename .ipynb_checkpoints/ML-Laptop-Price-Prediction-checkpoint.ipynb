{
 "cells": [
  {
   "cell_type": "code",
   "execution_count": null,
   "id": "dc3ef7b4",
   "metadata": {},
   "outputs": [],
   "source": [
    "import numpy as np\n",
    "import pandas as pd\n",
    "import matplotlib.pyplot as plt\n",
    "from sklearn.model_selection import train_test_split\n",
    "%matplotlib inline"
   ]
  },
  {
   "cell_type": "code",
   "execution_count": null,
   "id": "16ce246d",
   "metadata": {},
   "outputs": [],
   "source": [
    "data=pd.read_csv('laptop_price.csv',  encoding='latin-1')\n",
    "data.head()"
   ]
  },
  {
   "cell_type": "code",
   "execution_count": null,
   "id": "d7baed69",
   "metadata": {},
   "outputs": [],
   "source": [
    "data.describe()"
   ]
  },
  {
   "cell_type": "code",
   "execution_count": null,
   "id": "f9af6909",
   "metadata": {},
   "outputs": [],
   "source": [
    "data.columns"
   ]
  },
  {
   "cell_type": "code",
   "execution_count": null,
   "id": "4237f7b7",
   "metadata": {},
   "outputs": [],
   "source": [
    "data.dtypes"
   ]
  },
  {
   "cell_type": "code",
   "execution_count": null,
   "id": "232bc4ce",
   "metadata": {},
   "outputs": [],
   "source": [
    "data.hist();"
   ]
  },
  {
   "cell_type": "code",
   "execution_count": null,
   "id": "64a04f19",
   "metadata": {},
   "outputs": [],
   "source": [
    "data['Company'].hist();"
   ]
  },
  {
   "cell_type": "code",
   "execution_count": null,
   "id": "10680852",
   "metadata": {},
   "outputs": [],
   "source": [
    "data[data['Company']=='Apple'].count()"
   ]
  },
  {
   "cell_type": "code",
   "execution_count": null,
   "id": "8e6331cd",
   "metadata": {},
   "outputs": [],
   "source": [
    "data['Company'].unique()"
   ]
  },
  {
   "cell_type": "code",
   "execution_count": null,
   "id": "a7340699",
   "metadata": {},
   "outputs": [],
   "source": [
    "data.head()"
   ]
  },
  {
   "cell_type": "code",
   "execution_count": null,
   "id": "0016ecf5",
   "metadata": {},
   "outputs": [],
   "source": [
    "data['TypeName'].unique()"
   ]
  },
  {
   "cell_type": "code",
   "execution_count": null,
   "id": "c35bad60",
   "metadata": {},
   "outputs": [],
   "source": [
    "data=data.drop('laptop_ID',axis=1)"
   ]
  },
  {
   "cell_type": "code",
   "execution_count": null,
   "id": "ab3c7ea2",
   "metadata": {},
   "outputs": [],
   "source": [
    "data.head()"
   ]
  },
  {
   "cell_type": "code",
   "execution_count": null,
   "id": "be8966d0",
   "metadata": {},
   "outputs": [],
   "source": [
    "data['Ram'].hist();"
   ]
  },
  {
   "cell_type": "code",
   "execution_count": null,
   "id": "f8978acd",
   "metadata": {},
   "outputs": [],
   "source": [
    "data['OpSys'].hist();"
   ]
  },
  {
   "cell_type": "code",
   "execution_count": null,
   "id": "e97a31d2",
   "metadata": {},
   "outputs": [],
   "source": [
    "data['Cpu'].unique()"
   ]
  },
  {
   "cell_type": "code",
   "execution_count": null,
   "id": "d39d4824",
   "metadata": {},
   "outputs": [],
   "source": [
    "data[data['Cpu']=='Samsung Cortex A72&A53 2.0GHz']"
   ]
  },
  {
   "cell_type": "code",
   "execution_count": null,
   "id": "495f7d75",
   "metadata": {},
   "outputs": [],
   "source": [
    "data['Inches'].hist();"
   ]
  },
  {
   "cell_type": "code",
   "execution_count": null,
   "id": "0f8fffeb",
   "metadata": {},
   "outputs": [],
   "source": [
    "data.tail()"
   ]
  },
  {
   "cell_type": "code",
   "execution_count": null,
   "id": "d6a07a8d",
   "metadata": {},
   "outputs": [],
   "source": [
    "data['Ram'].unique()"
   ]
  },
  {
   "cell_type": "code",
   "execution_count": null,
   "id": "f1fe4e74",
   "metadata": {},
   "outputs": [],
   "source": [
    "data['Price_euros'].min()"
   ]
  },
  {
   "cell_type": "code",
   "execution_count": null,
   "id": "33e51f5e",
   "metadata": {},
   "outputs": [],
   "source": [
    "data['Price_euros'].max()"
   ]
  },
  {
   "cell_type": "code",
   "execution_count": null,
   "id": "71dbb3b8",
   "metadata": {},
   "outputs": [],
   "source": [
    "data[data['Price_euros']==6099.0]"
   ]
  },
  {
   "cell_type": "code",
   "execution_count": null,
   "id": "23c9c666",
   "metadata": {},
   "outputs": [],
   "source": [
    "data[data['Price_euros']==174.0]"
   ]
  },
  {
   "cell_type": "code",
   "execution_count": null,
   "id": "4a3067d1",
   "metadata": {},
   "outputs": [],
   "source": [
    "price=data['Price_euros']"
   ]
  },
  {
   "cell_type": "code",
   "execution_count": null,
   "id": "bc590254",
   "metadata": {},
   "outputs": [],
   "source": [
    "price.dtype"
   ]
  },
  {
   "cell_type": "code",
   "execution_count": null,
   "id": "de004d59",
   "metadata": {},
   "outputs": [],
   "source": [
    "price=price.sort_values(ascending=True)"
   ]
  },
  {
   "cell_type": "code",
   "execution_count": null,
   "id": "9059a4e4",
   "metadata": {},
   "outputs": [],
   "source": [
    "price"
   ]
  },
  {
   "cell_type": "code",
   "execution_count": null,
   "id": "9fc8cbe0",
   "metadata": {},
   "outputs": [],
   "source": [
    "data.tail(8)"
   ]
  },
  {
   "cell_type": "code",
   "execution_count": null,
   "id": "16f665d9",
   "metadata": {},
   "outputs": [],
   "source": [
    "data.dtypes"
   ]
  },
  {
   "cell_type": "code",
   "execution_count": null,
   "id": "63f29a56",
   "metadata": {},
   "outputs": [],
   "source": [
    "items=list(data.columns)"
   ]
  },
  {
   "cell_type": "code",
   "execution_count": null,
   "id": "9ad006db",
   "metadata": {},
   "outputs": [],
   "source": [
    "items"
   ]
  },
  {
   "cell_type": "code",
   "execution_count": null,
   "id": "6725ea96",
   "metadata": {},
   "outputs": [],
   "source": [
    "comp=pd.get_dummies(data['Company'],drop_first=True)\n",
    "comp.head()"
   ]
  },
  {
   "cell_type": "code",
   "execution_count": null,
   "id": "67eb59a2",
   "metadata": {},
   "outputs": [],
   "source": [
    "data['Company'].unique()"
   ]
  },
  {
   "cell_type": "code",
   "execution_count": null,
   "id": "267c00e9",
   "metadata": {},
   "outputs": [],
   "source": [
    "comp.shape"
   ]
  },
  {
   "cell_type": "code",
   "execution_count": null,
   "id": "40d9f056",
   "metadata": {},
   "outputs": [],
   "source": [
    "data['Product'].unique()"
   ]
  },
  {
   "cell_type": "code",
   "execution_count": null,
   "id": "93be807d",
   "metadata": {},
   "outputs": [],
   "source": [
    "data=data.drop('Product',axis=1)"
   ]
  },
  {
   "cell_type": "code",
   "execution_count": null,
   "id": "9b967ccd",
   "metadata": {},
   "outputs": [],
   "source": [
    "data"
   ]
  },
  {
   "cell_type": "code",
   "execution_count": null,
   "id": "18d39b92",
   "metadata": {},
   "outputs": [],
   "source": [
    "data['ScreenResolution'].unique()"
   ]
  },
  {
   "cell_type": "code",
   "execution_count": null,
   "id": "0563b8f2",
   "metadata": {},
   "outputs": [],
   "source": [
    "scrn=pd.get_dummies(data['ScreenResolution'],drop_first=True)\n",
    "scrn.head()"
   ]
  },
  {
   "cell_type": "code",
   "execution_count": null,
   "id": "641bb134",
   "metadata": {},
   "outputs": [],
   "source": [
    "data.dtypes"
   ]
  },
  {
   "cell_type": "code",
   "execution_count": null,
   "id": "01762b18",
   "metadata": {},
   "outputs": [],
   "source": [
    "data.head()"
   ]
  },
  {
   "cell_type": "code",
   "execution_count": null,
   "id": "24b1a3f3",
   "metadata": {},
   "outputs": [],
   "source": [
    "TypeName=pd.get_dummies(data['TypeName'],drop_first=True)\n",
    "TypeName.head()"
   ]
  },
  {
   "cell_type": "code",
   "execution_count": null,
   "id": "2b71b9be",
   "metadata": {},
   "outputs": [],
   "source": [
    "Inches=pd.get_dummies(data['Inches'],drop_first=True)\n",
    "Inches.head()"
   ]
  },
  {
   "cell_type": "code",
   "execution_count": null,
   "id": "41414816",
   "metadata": {},
   "outputs": [],
   "source": [
    "Cpu=pd.get_dummies(data['Cpu'],drop_first=True)\n",
    "Cpu.head()"
   ]
  },
  {
   "cell_type": "code",
   "execution_count": null,
   "id": "c9ca5bd1",
   "metadata": {},
   "outputs": [],
   "source": [
    "Ram=pd.get_dummies(data['Ram'],drop_first=True)\n",
    "Ram.head()"
   ]
  },
  {
   "cell_type": "code",
   "execution_count": null,
   "id": "0f79fd0d",
   "metadata": {},
   "outputs": [],
   "source": [
    "Memory=pd.get_dummies(data['Memory'],drop_first=True)\n",
    "Memory.head()"
   ]
  },
  {
   "cell_type": "code",
   "execution_count": null,
   "id": "c3d327b1",
   "metadata": {},
   "outputs": [],
   "source": [
    "data.dtypes"
   ]
  },
  {
   "cell_type": "code",
   "execution_count": null,
   "id": "57bdd571",
   "metadata": {},
   "outputs": [],
   "source": [
    "Gpu=pd.get_dummies(data['Gpu'],drop_first=True)\n",
    "Gpu.head()"
   ]
  },
  {
   "cell_type": "code",
   "execution_count": null,
   "id": "d6851e2d",
   "metadata": {},
   "outputs": [],
   "source": [
    "OpSys=pd.get_dummies(data['OpSys'],drop_first=True)\n",
    "OpSys.head()"
   ]
  },
  {
   "cell_type": "code",
   "execution_count": null,
   "id": "6b7b090b",
   "metadata": {},
   "outputs": [],
   "source": [
    "Weight=pd.get_dummies(data['Weight'],drop_first=True)\n",
    "Weight.head()"
   ]
  },
  {
   "cell_type": "code",
   "execution_count": null,
   "id": "720a6d38",
   "metadata": {},
   "outputs": [],
   "source": [
    "data"
   ]
  },
  {
   "cell_type": "code",
   "execution_count": null,
   "id": "fe030b5d",
   "metadata": {},
   "outputs": [],
   "source": [
    "comp,TypeName"
   ]
  },
  {
   "cell_type": "code",
   "execution_count": null,
   "id": "0bcd95ab",
   "metadata": {},
   "outputs": [],
   "source": [
    "data.columns"
   ]
  },
  {
   "cell_type": "code",
   "execution_count": null,
   "id": "4c25f626",
   "metadata": {},
   "outputs": [],
   "source": [
    "data=data.drop(['Company', 'TypeName', 'Inches', 'ScreenResolution', 'Cpu', 'Ram',\n",
    "       'Memory', 'Gpu', 'OpSys', 'Weight'],axis=1)"
   ]
  },
  {
   "cell_type": "code",
   "execution_count": null,
   "id": "1849369f",
   "metadata": {},
   "outputs": [],
   "source": [
    "data"
   ]
  },
  {
   "cell_type": "code",
   "execution_count": null,
   "id": "7e0c58bf",
   "metadata": {},
   "outputs": [],
   "source": [
    "data=pd.concat([data,comp,TypeName,Inches],axis=1)"
   ]
  },
  {
   "cell_type": "code",
   "execution_count": null,
   "id": "521a70cb",
   "metadata": {},
   "outputs": [],
   "source": [
    "data=pd.concat([data,scrn,Cpu,Ram,Memory,Gpu,OpSys,Weight],axis=1)"
   ]
  },
  {
   "cell_type": "code",
   "execution_count": null,
   "id": "3ed4e088",
   "metadata": {},
   "outputs": [],
   "source": [
    "data.head()"
   ]
  },
  {
   "cell_type": "code",
   "execution_count": null,
   "id": "4b9f69eb",
   "metadata": {},
   "outputs": [],
   "source": [
    "data.shape"
   ]
  },
  {
   "cell_type": "code",
   "execution_count": null,
   "id": "74d5585b",
   "metadata": {},
   "outputs": [],
   "source": [
    "X=data.drop('Price_euros',axis=1)"
   ]
  }
 ],
 "metadata": {
  "kernelspec": {
   "display_name": "Python 3 (ipykernel)",
   "language": "python",
   "name": "python3"
  },
  "language_info": {
   "codemirror_mode": {
    "name": "ipython",
    "version": 3
   },
   "file_extension": ".py",
   "mimetype": "text/x-python",
   "name": "python",
   "nbconvert_exporter": "python",
   "pygments_lexer": "ipython3",
   "version": "3.9.12"
  }
 },
 "nbformat": 4,
 "nbformat_minor": 5
}
